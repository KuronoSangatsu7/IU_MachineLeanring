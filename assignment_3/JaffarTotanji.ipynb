{
 "cells": [
  {
   "cell_type": "markdown",
   "metadata": {},
   "source": [
    "# Bonus assignement"
   ]
  },
  {
   "cell_type": "markdown",
   "metadata": {},
   "source": [
    "## Instructions\n",
    "- Your submission should be the `.ipynb` file with your name,\n",
    "  like `FirstNameLastName.ipynb`. It should include the answers to the questions in\n",
    "  markdown cells.\n",
    "- You are expected to follow the best practices for code writing and model\n",
    "training. Poor coding style will be penalized.\n",
    "- You are allowed to discuss ideas with your peers, but no sharing of code.\n",
    "Plagiarism in the code will result in failing. If you use code from the\n",
    "internet, cite it. \n",
    "- Read each instruction carefully and provide complete answers to each question/task\n",
    "- You are allowed to use Keras or Pytorch \n",
    "\n",
    "> **_NOTE:_**  Write your email address in the cell below"
   ]
  },
  {
   "cell_type": "markdown",
   "metadata": {},
   "source": [
    "j.totanji@innopolis.university"
   ]
  },
  {
   "cell_type": "markdown",
   "metadata": {},
   "source": [
    "### I- Open questions (3 points)\n",
    "\n",
    "Read [this article](https://link.springer.com/referenceworkentry/10.1007/978-0-387-73003-5_304) and answer the following questions:\n",
    "\n",
    "1. What is incremental learning?\n",
    "\n",
    "    - It is a Machine Learning paradigm that -opposite to traditional machine learning- does not assume the availabtility of a sufficient training set before the learning process, rather, the training examples appear over time. Per this paradigm, the learning process takes place whenever new examples emerge and adjusts what ahs been learned according to these new examples.\n",
    "\n",
    "2. Why is it important for us to create neural networks that would someday be able to learn incrementally?\n",
    "\n",
    "    - Since the original goal of the neural network approach is to create a computational system that could solve problems like a human brain, then we should try to simulate the way humans acquire knowledge, that is, incrementally over a period of time.\n",
    "    \n",
    "    - Additionally, if we want neural networks to solve real-world problems, then they have to be able to learn incrementally, because many real-world applications cannot match the ideal case of having a sufficient training set. Some examples of these problems are:\n",
    "\n",
    "        - Applications where the target concepts change over time (Robotics, Intelligent Agent).\n",
    "        - Applications where the “sufficient training sets” are too big (Content based image retrieval, Face recognition).\n",
    "        - Applications where the training examples are obtained over time (Visual object tracking, Software project estimation).\n",
    "\n",
    "3. What is catastrophic forgetting?\n",
    "\n",
    "     - Catastrophic Forgetting is the tendency of an artificial neural network to abruptly and drastically forget previously learned information upon learning new information. Specifically, catastrophic forgetting occurs when a network is trained sequentially on multiple tasks because the weights in the network that are important for task A are changed to meet the objectives of task B. And is the main limitation of neural networks being unable to build knowledge incrementally over large periods of time."
   ]
  },
  {
   "cell_type": "markdown",
   "metadata": {},
   "source": [
    "### II- Train simple CNN model for digit classification (5 points)"
   ]
  },
  {
   "cell_type": "markdown",
   "metadata": {},
   "source": [
    "Instructions:\n",
    "- Load MNIST dataset and split it in **Tr**ainning (`Tr`) and **Te**ting set (`Te`), 80% and 20% respectively.\n",
    "- Train a simple CNN for digit classification on the training set. \n",
    "- After fine tuning your CNN, evaluate the `overall` and the `class-wise` performances on `Te`. \n",
    ">**NOTE:** For the class-wise performance, you should plot (e.g., bar plots) the performance of your model on each class."
   ]
  },
  {
   "cell_type": "code",
   "execution_count": 1,
   "metadata": {},
   "outputs": [],
   "source": [
    "# Imports\n",
    "import torch\n",
    "import numpy as np\n",
    "import torch.nn as nn\n",
    "from torchvision import datasets\n",
    "from torchvision import transforms\n",
    "from torch import optim\n",
    "from torch.utils.data import ConcatDataset\n",
    "from torch.utils.data import DataLoader\n",
    "import matplotlib.pyplot as plt"
   ]
  },
  {
   "cell_type": "code",
   "execution_count": 24,
   "metadata": {},
   "outputs": [
    {
     "data": {
      "text/plain": [
       "{'train': <torch.utils.data.dataloader.DataLoader at 0x7f546e38f130>,\n",
       " 'test': <torch.utils.data.dataloader.DataLoader at 0x7f546ef9f910>}"
      ]
     },
     "execution_count": 24,
     "metadata": {},
     "output_type": "execute_result"
    }
   ],
   "source": [
    "# Loading the MNIST dataset and splitting into training and testing sets\n",
    "\n",
    "transform = transforms.Compose([transforms.ToTensor(),\n",
    "                                transforms.Grayscale(),\n",
    "                                transforms.Normalize((0.5,), (0.5,))])\n",
    "\n",
    "train_data = datasets.MNIST(root='data', train=True, transform=transform, download=True)\n",
    "test_data = datasets.MNIST(root='data', train=False, transform=transform, download=True)\n",
    "\n",
    "# Added together both datasets instead of splitting only one\n",
    "data = ConcatDataset([train_data, test_data])\n",
    "\n",
    "# 80 20 split\n",
    "train_set, test_set = torch.utils.data.random_split(data, [56000, 14000])\n",
    "\n",
    "loaders = {\n",
    "    'train' : DataLoader(train_set, batch_size=100, shuffle=True, num_workers=1),\n",
    "    \n",
    "    'test'  : DataLoader(test_set, batch_size=100, shuffle=True, num_workers=1),\n",
    "}\n",
    "\n",
    "loaders"
   ]
  },
  {
   "cell_type": "code",
   "execution_count": 116,
   "metadata": {},
   "outputs": [],
   "source": [
    "# The CNN Model\n",
    "class CNN(nn.Module):\n",
    "    def __init__(self):\n",
    "        super(CNN, self).__init__()\n",
    "        self.conv1 = nn.Sequential(\n",
    "            nn.Conv2d(\n",
    "                in_channels=1,\n",
    "                out_channels=16,\n",
    "                kernel_size=5,\n",
    "                stride=1,\n",
    "                padding=2,\n",
    "            ),\n",
    "            nn.ReLU(),\n",
    "            nn.MaxPool2d(kernel_size=2),\n",
    "            nn.Conv2d(16, 32, 5, 1, 2),\n",
    "            nn.ReLU(),\n",
    "            nn.MaxPool2d(2)\n",
    "        )\n",
    "        \n",
    "        self.out = nn.Linear(32 * 7 * 7, 10)\n",
    "\n",
    "    def forward(self, x):\n",
    "        x = self.conv1(x)\n",
    "        \n",
    "        x = x.view(x.size(0), -1)\n",
    "        output = self.out(x)\n",
    "        return output, x"
   ]
  },
  {
   "cell_type": "code",
   "execution_count": 117,
   "metadata": {},
   "outputs": [
    {
     "name": "stdout",
     "output_type": "stream",
     "text": [
      "Epoch [1/10], Step [100/560], Loss: 0.0714\n",
      "Epoch [1/10], Step [200/560], Loss: 0.1775\n",
      "Epoch [1/10], Step [300/560], Loss: 0.0708\n",
      "Epoch [1/10], Step [400/560], Loss: 0.1117\n",
      "Epoch [1/10], Step [500/560], Loss: 0.0413\n",
      "Epoch [2/10], Step [100/560], Loss: 0.0249\n",
      "Epoch [2/10], Step [200/560], Loss: 0.1250\n",
      "Epoch [2/10], Step [300/560], Loss: 0.0282\n",
      "Epoch [2/10], Step [400/560], Loss: 0.0546\n",
      "Epoch [2/10], Step [500/560], Loss: 0.0290\n",
      "Epoch [3/10], Step [100/560], Loss: 0.0212\n",
      "Epoch [3/10], Step [200/560], Loss: 0.0705\n",
      "Epoch [3/10], Step [300/560], Loss: 0.0127\n",
      "Epoch [3/10], Step [400/560], Loss: 0.0122\n",
      "Epoch [3/10], Step [500/560], Loss: 0.0091\n",
      "Epoch [4/10], Step [100/560], Loss: 0.0826\n",
      "Epoch [4/10], Step [200/560], Loss: 0.0442\n",
      "Epoch [4/10], Step [300/560], Loss: 0.0363\n",
      "Epoch [4/10], Step [400/560], Loss: 0.0887\n",
      "Epoch [4/10], Step [500/560], Loss: 0.1079\n",
      "Epoch [5/10], Step [100/560], Loss: 0.0091\n",
      "Epoch [5/10], Step [200/560], Loss: 0.0155\n",
      "Epoch [5/10], Step [300/560], Loss: 0.0277\n",
      "Epoch [5/10], Step [400/560], Loss: 0.0735\n",
      "Epoch [5/10], Step [500/560], Loss: 0.1096\n",
      "Epoch [6/10], Step [100/560], Loss: 0.0077\n",
      "Epoch [6/10], Step [200/560], Loss: 0.0340\n",
      "Epoch [6/10], Step [300/560], Loss: 0.0647\n",
      "Epoch [6/10], Step [400/560], Loss: 0.1644\n",
      "Epoch [6/10], Step [500/560], Loss: 0.0880\n",
      "Epoch [7/10], Step [100/560], Loss: 0.0628\n",
      "Epoch [7/10], Step [200/560], Loss: 0.0011\n",
      "Epoch [7/10], Step [300/560], Loss: 0.0023\n",
      "Epoch [7/10], Step [400/560], Loss: 0.0257\n",
      "Epoch [7/10], Step [500/560], Loss: 0.2357\n",
      "Epoch [8/10], Step [100/560], Loss: 0.0391\n",
      "Epoch [8/10], Step [200/560], Loss: 0.1209\n",
      "Epoch [8/10], Step [300/560], Loss: 0.0414\n",
      "Epoch [8/10], Step [400/560], Loss: 0.0166\n",
      "Epoch [8/10], Step [500/560], Loss: 0.0759\n",
      "Epoch [9/10], Step [100/560], Loss: 0.0492\n",
      "Epoch [9/10], Step [200/560], Loss: 0.0906\n",
      "Epoch [9/10], Step [300/560], Loss: 0.0886\n",
      "Epoch [9/10], Step [400/560], Loss: 0.0274\n",
      "Epoch [9/10], Step [500/560], Loss: 0.0641\n",
      "Epoch [10/10], Step [100/560], Loss: 0.0041\n",
      "Epoch [10/10], Step [200/560], Loss: 0.0670\n",
      "Epoch [10/10], Step [300/560], Loss: 0.1167\n",
      "Epoch [10/10], Step [400/560], Loss: 0.0323\n",
      "Epoch [10/10], Step [500/560], Loss: 0.1225\n"
     ]
    }
   ],
   "source": [
    "# Training the model\n",
    "\n",
    "cnn = CNN()\n",
    "\n",
    "num_epochs = 10\n",
    "loss_func = nn.CrossEntropyLoss() \n",
    "optimizer = optim.Adam(cnn.parameters(), lr = 0.01)  \n",
    "\n",
    "def train(num_epochs, cnn, loaders):\n",
    "\n",
    "    cnn.train()\n",
    "\n",
    "    total_step = len(loaders['train'])\n",
    "\n",
    "    for epoch in range(num_epochs):\n",
    "        for i, (images, labels) in enumerate(loaders['train']):\n",
    "\n",
    "            output = cnn(images)[0]\n",
    "            loss = loss_func(output, labels)\n",
    "            optimizer.zero_grad()\n",
    "            loss.backward()\n",
    "            optimizer.step()\n",
    "\n",
    "            if (i+1) % 100 == 0:\n",
    "                print('Epoch [{}/{}], Step [{}/{}], Loss: {:.4f}'\n",
    "                      .format(epoch + 1, num_epochs, i + 1, total_step, loss.item()))\n",
    "train(num_epochs, cnn, loaders)"
   ]
  },
  {
   "cell_type": "code",
   "execution_count": 124,
   "metadata": {},
   "outputs": [],
   "source": [
    "# Testing the model and measuring preformance\n",
    "\n",
    "classes = [i for i in range(10)]\n",
    "\n",
    "def test():\n",
    "    cnn.eval()\n",
    "    with torch.no_grad():\n",
    "\n",
    "        class_wise_acc = [(0, 0) for c in classes]\n",
    "\n",
    "        for images, labels in loaders['test']:\n",
    "            test_output, last_layer = cnn(images)\n",
    "            pred_y = torch.max(test_output, 1)[1].data.squeeze()\n",
    "            overall_acc = (pred_y == labels).sum().item() / float(labels.size(0))\n",
    "\n",
    "            for c in classes:\n",
    "                class_wise_acc[c] = (class_wise_acc[c][0] + ((pred_y == labels) * (labels == c)).sum().item(),\n",
    "                                     class_wise_acc[c][1] + float((labels == c).sum().item()))\n",
    "\n",
    "            pass\n",
    "    \n",
    "    class_wise_acc = [num/denom for (num, denom) in class_wise_acc]\n",
    "\n",
    "    return overall_acc, class_wise_acc\n",
    "\n",
    "overall_accuracy, class_wise_accuracy = test()"
   ]
  },
  {
   "cell_type": "code",
   "execution_count": 127,
   "metadata": {},
   "outputs": [
    {
     "name": "stdout",
     "output_type": "stream",
     "text": [
      "The overall test Accuracy of the model on the test set: 0.97\n",
      "The class-wise accuracy of the model on the test set:\n",
      "Class: 0 | Accuracy: 0.9687045123726347\n",
      "Class: 1 | Accuracy: 0.9936427209154481\n",
      "Class: 2 | Accuracy: 0.9733333333333334\n",
      "Class: 3 | Accuracy: 0.9781690140845071\n",
      "Class: 4 | Accuracy: 0.9875640087783467\n",
      "Class: 5 | Accuracy: 0.9736842105263158\n",
      "Class: 6 | Accuracy: 0.9949238578680203\n",
      "Class: 7 | Accuracy: 0.9872225958305313\n",
      "Class: 8 | Accuracy: 0.966467958271237\n",
      "Class: 9 | Accuracy: 0.9608411892675852\n"
     ]
    }
   ],
   "source": [
    "# Performance on Test Set\n",
    "print('The overall test Accuracy of the model on the test set: %.2f' % overall_accuracy)\n",
    "print('The class-wise accuracy of the model on the test set:')\n",
    "\n",
    "for i, acc in enumerate(class_wise_accuracy):\n",
    "    print(f'Class: {i} | Accuracy: {acc}')"
   ]
  },
  {
   "cell_type": "code",
   "execution_count": 141,
   "metadata": {},
   "outputs": [
    {
     "data": {
      "image/png": "[encoded data removed]",
      "text/plain": [
       "<Figure size 640x480 with 1 Axes>"
      ]
     },
     "metadata": {},
     "output_type": "display_data"
    }
   ],
   "source": [
    "# Plotting class-wise accuracy\n",
    "\n",
    "y_ticks = [i for i in np.arange(0.90, 1.01, 0.01)]\n",
    "\n",
    "fig = plt.figure()\n",
    "plt.xlabel(\"Class\")\n",
    "plt.ylabel(\"Accuracy\")\n",
    "plt.xticks(classes)\n",
    "plt.yticks(y_ticks)\n",
    "plt.ylim(0.90,1.00)\n",
    "plt.bar(classes, class_wise_accuracy, 0.5)\n",
    "plt.show()"
   ]
  },
  {
   "cell_type": "markdown",
   "metadata": {},
   "source": [
    "### III- Create different tasks from the MNIST dataset (2 points)"
   ]
  },
  {
   "cell_type": "markdown",
   "metadata": {},
   "source": [
    "Split `Tr` into 3 datasets (tasks) according to the following distribution.\n",
    "\n",
    "- Task 1 contains digits of classes 0, 1, and 2. \n",
    "- Task 2 contains classes 3, 4, and 5. \n",
    "- Task 3 contains classes 6, 7, 8, and 9.\n",
    " \n",
    "*The following picture showcases the general scheme*\n",
    "<center>\n",
    "<img src='https://drive.google.com/uc?id=1vdDgdN9BGQ2Jl3Yg4YiPvfb5fcAeJZJ-' style=\"width:500px;\"> \n",
    "</center>\n"
   ]
  },
  {
   "cell_type": "code",
   "execution_count": 9,
   "metadata": {},
   "outputs": [],
   "source": [
    "# Storing the data according to labels\n",
    "\n",
    "labelled_data = {}\n",
    "\n",
    "for i in range(0, len(train_set)):\n",
    "    target = train_set[i][1]\n",
    "\n",
    "    if not target in labelled_data:\n",
    "        labelled_data[target] = []\n",
    "        labelled_data[target].append(train_set[i])\n",
    "    \n",
    "    else:\n",
    "        labelled_data[target].append(train_set[i])"
   ]
  },
  {
   "cell_type": "code",
   "execution_count": 23,
   "metadata": {},
   "outputs": [
    {
     "name": "stdout",
     "output_type": "stream",
     "text": [
      "Corresponding lengths of the 3 partial datasets:\n",
      "Set 1: 17385 Items\n",
      "Set 2: 16179 Items\n",
      "Set 3: 22436 Items\n"
     ]
    }
   ],
   "source": [
    "# Splitting the data into 3 subsets\n",
    "\n",
    "train_set_1 = []\n",
    "for i in range(0, 3):\n",
    "    train_set_1 += labelled_data[i]\n",
    "\n",
    "train_set_2 = []\n",
    "for i in range(3, 6):\n",
    "    train_set_2 += labelled_data[i]\n",
    "\n",
    "train_set_3 = []\n",
    "for i in range(6, 10):\n",
    "    train_set_3 += labelled_data[i]\n",
    "\n",
    "print(\"Corresponding lengths of the 3 partial datasets:\")\n",
    "\n",
    "print(f\"Set 1: {len(train_set_1)} Items\\nSet 2: {len(train_set_2)} Items\\nSet 3: {len(train_set_3)} Items\")"
   ]
  },
  {
   "cell_type": "code",
   "execution_count": 25,
   "metadata": {},
   "outputs": [
    {
     "data": {
      "text/plain": [
       "{'train_1': <torch.utils.data.dataloader.DataLoader at 0x7f546e405160>,\n",
       " 'train_2': <torch.utils.data.dataloader.DataLoader at 0x7f546e395a00>,\n",
       " 'train_3': <torch.utils.data.dataloader.DataLoader at 0x7f5534064520>,\n",
       " 'test': <torch.utils.data.dataloader.DataLoader at 0x7f5534064760>}"
      ]
     },
     "execution_count": 25,
     "metadata": {},
     "output_type": "execute_result"
    }
   ],
   "source": [
    "# Feeding the data into DataLoaders\n",
    "\n",
    "loaders = {\n",
    "    'train_1' : DataLoader(train_set_1, batch_size=100, shuffle=True, num_workers=1),\n",
    "    'train_2' : DataLoader(train_set_2, batch_size=100, shuffle=True, num_workers=1),\n",
    "    'train_3' : DataLoader(train_set_3, batch_size=100, shuffle=True, num_workers=1),\n",
    "    'test' : DataLoader(test_set, batch_size=100, shuffle=True, num_workers=1)\n",
    "}\n",
    "\n",
    "loaders"
   ]
  },
  {
   "cell_type": "markdown",
   "metadata": {},
   "source": [
    "### IV- Class-incremental learning implementation (8 points)"
   ]
  },
  {
   "cell_type": "markdown",
   "metadata": {},
   "source": [
    "Using the different tasks (datasets) you created previously, implement a CNN for class incremental learning according to the following instructions. \n",
    "- The neural network architecture is not given, choose and tune your architecture following DNNs best practices. Similarly for the training no hyperparameters are given to you, you should choose them and justify your choice. Hyperparameter tuning is not mandatory but doing it would be a plus.\n",
    "- Your network should have shared feature extractor (shared layers) part and separate classifier head (e.g., fully connected layers) for each task (see the figure below).\n",
    "- When training on a new task, the shared layers part will get updated along with the head of the current task. \n",
    "- After training each task (Task 1 & 2), evaluate (and plot) the performances of the current and the previous tasks on `Te`.\n",
    "    - Once the training on the last task is complete, test the model on `Te` and compare the performance of the network with the CNN trained in II, i.e., plot the `overall` and the `class-wise` performances for classical learning and incremental learning.\n",
    "\n",
    "<center>\n",
    "<img src='https://drive.google.com/uc?id=1HfwcMP7jGoJnYEMu7jDqloQNogEZsjrJ'  style=\"width:250px;\"> \n",
    "</center>\n"
   ]
  },
  {
   "cell_type": "markdown",
   "metadata": {},
   "source": [
    "### V- Report (2 points)\n",
    "Write a short report on the results you got and what you learned from this activity"
   ]
  },
  {
   "cell_type": "markdown",
   "metadata": {},
   "source": [
    "I. The open questions:\n",
    "    - The article was an interesting read about a problem that we -as humans- are trying to tackle at the moment. I knew almost nothing about incremental learning but after reading the article I was a little scared of what we might be able to create (emphasis on \"create\") with such technologies :)\n",
    "\n",
    "II. Train simple CNN model for image calssification:\n",
    "- Data Preprocessing and Augmentation:\n",
    "    - I first loaded the MNIST Dataset from Pytorch. The default Train and Test splits were not the required 80/20 ratio. I decided to merge both the datasets into one larger set, and then randomly split that into 80/20 training and testing sets.\n",
    "\n",
    "    - Not a whole lot went into Agumentation since the MNIST set is quite \"clean\", so to speak. And also because the testing was going to happen on data from the same domain which doesnt require the model to handle any complex cases (e.g. real-life numbers, etc.). All I did was Grayscale the images to get rid of any color noise, and then transform them into a Tensor and Normalize them for faster processing.\n",
    "\n",
    "- The CNN Model:\n",
    "    - The model I used here was introduced in Lab 9 of our course to solve the same problem and achieved high accuracy.\n",
    "\n",
    "    - The model itself is quite simple, consisting of one Convolutional layer which uses a ReLu activation function, followed by a fully-connected layer with 10 outputs, each output corresponding to one of our target classes.\n",
    "\n",
    "- Training and Testing:\n",
    "    - Trained the model for 10 epochs and used CrossEntropyLoss to calculate the loss.\n",
    "\n",
    "    - For testing, I used the final model to make predictions on my test dataset from earlier.\n",
    "\n",
    "    - Calculating the accuracy was pretty straightforward, I simply divided the number of correct prediction over the total number of datapoints. For class-wise accuracy, the same technique was used, but using a list to keep track of the number of correct predicitons, and total number of datapoints for each class individually.\n",
    "\n",
    "- Even though this part of the task did not include a lot of new things. It was actually very beneficial for me to implement as I employed all the knowledge and experience from the mistakes that I made in the previous assignment to go through it pretty smoothly :)\n",
    "\n",
    "III. Create different tasks from the MNIST Dataset:\n",
    "\n",
    "- I first used dictionary to group datapoints which have the same target into separate lists.\n",
    "\n",
    "- Then, I concatenated the lists of the corresponding groups ([0, 2], [3, 5], [6, 9]) to create new datasets.\n",
    "\n",
    "- Finally, I fed the 3 datasets along with the test set from the previous task into a DataLoader to prepare them for Incremental Learning."
   ]
  },
  {
   "cell_type": "markdown",
   "metadata": {},
   "source": [
    "### Resources:\n",
    "- Incremental Learning: \n",
    "    - https://link.springer.com/referenceworkentry/10.1007/978-0-387-73003-5_304\n",
    "<br></br>\n",
    "\n",
    "- Catastrophic Forgetting:\n",
    "    - https://medium.com/dataseries/some-ideas-about-catastrophic-forgetting-in-neural-networks-34b2c95c9d13\n",
    "    - https://en.wikipedia.org/wiki/Catastrophic_interference\n",
    "<br></br>\n",
    "\n",
    "- Concatenating Datasets:\n",
    "\n",
    "    - https://discuss.pytorch.org/t/combine-train-and-test-data/24004\n",
    "<br></br>\n",
    "\n",
    "- Measuring class-wise accuracy:\n",
    "\n",
    "    - https://stackoverflow.com/questions/62958248/calculate-accuracy-for-each-class-using-cnn-and-pytorch\n",
    "<br></br>\n",
    "\n",
    "- The CNN model, training, and testing:\n",
    "\n",
    "    - Intro to ML Course, Lab 9"
   ]
  }
 ],
 "metadata": {
  "kernelspec": {
   "display_name": "Python 3.8.10 64-bit",
   "language": "python",
   "name": "python3"
  },
  "language_info": {
   "codemirror_mode": {
    "name": "ipython",
    "version": 3
   },
   "file_extension": ".py",
   "mimetype": "text/x-python",
   "name": "python",
   "nbconvert_exporter": "python",
   "pygments_lexer": "ipython3",
   "version": "3.8.10"
  },
  "orig_nbformat": 4,
  "vscode": {
   "interpreter": {
    "hash": "916dbcbb3f70747c44a77c7bcd40155683ae19c65e1c03b4aa3499c5328201f1"
   }
  }
 },
 "nbformat": 4,
 "nbformat_minor": 2
}
